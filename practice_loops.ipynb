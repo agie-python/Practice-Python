{
 "cells": [
  {
   "cell_type": "markdown",
   "metadata": {},
   "source": [
    "# For loops"
   ]
  },
  {
   "cell_type": "code",
   "execution_count": 2,
   "metadata": {},
   "outputs": [
    {
     "name": "stdout",
     "output_type": "stream",
     "text": [
      "35\n"
     ]
    }
   ],
   "source": [
    "b = [10,5,20]\n",
    "total = 0\n",
    "for e in b:\n",
    "    total = total + e\n",
    "print (total)"
   ]
  },
  {
   "cell_type": "code",
   "execution_count": 5,
   "metadata": {},
   "outputs": [
    {
     "name": "stdout",
     "output_type": "stream",
     "text": [
      "[1, 2, 3, 4]\n"
     ]
    }
   ],
   "source": [
    "#finding the sum of 1,2,3,4\n",
    "range(1, 5)  #creating a range of numbers from 1 to 5 but 5 not included.\n",
    "c = list(range(1, 5))  #to print it, put it in the list form\n",
    "print(c)\n"
   ]
  },
  {
   "cell_type": "code",
   "execution_count": 6,
   "metadata": {},
   "outputs": [
    {
     "name": "stdout",
     "output_type": "stream",
     "text": [
      "1\n",
      "2\n",
      "3\n",
      "4\n"
     ]
    }
   ],
   "source": [
    "#Printing the numbers in the selected range.\n",
    "for i in range(1, 5):\n",
    "    print(i)\n"
   ]
  },
  {
   "cell_type": "code",
   "execution_count": 7,
   "metadata": {},
   "outputs": [
    {
     "name": "stdout",
     "output_type": "stream",
     "text": [
      "10\n"
     ]
    }
   ],
   "source": [
    "#So finding its sum.\n",
    "total2 = 0 #initialising the word total2\n",
    "for i in range(1, 5):\n",
    "    total2 = total2 + i #or to make it short, you cna write it as total2 +=i\n",
    "print(total2)\n"
   ]
  },
  {
   "cell_type": "code",
   "execution_count": 9,
   "metadata": {},
   "outputs": [
    {
     "name": "stdout",
     "output_type": "stream",
     "text": [
      "[1, 2, 3, 4, 5, 6, 7]\n",
      "1\n"
     ]
    }
   ],
   "source": [
    "#Getting the sum of numbers which are multiples of 3 in a give nrange.\n",
    "#To do this task, we are going to introduce a technigue called modules, which gives a remainder after division,\n",
    "#If remainder is 0, then it is a multiple.\n",
    "print(list(range(1, 8)))\n",
    "print(4 % 3)  #it gives the remainder."
   ]
  },
  {
   "cell_type": "code",
   "execution_count": 10,
   "metadata": {},
   "outputs": [
    {
     "name": "stdout",
     "output_type": "stream",
     "text": [
      "9\n"
     ]
    }
   ],
   "source": [
    "total3 = 0 #initialising the word total2\n",
    "for i in range(1, 8):\n",
    "    if i % 3 == 0:\n",
    "        total3 +=i\n",
    "print(total3)"
   ]
  },
  {
   "cell_type": "code",
   "execution_count": 11,
   "metadata": {},
   "outputs": [
    {
     "name": "stdout",
     "output_type": "stream",
     "text": [
      "[1, 2, 3, 4, 5, 6, 7, 8, 9, 10, 11, 12, 13, 14, 15, 16, 17, 18, 19, 20, 21, 22, 23, 24, 25, 26, 27, 28, 29, 30, 31, 32, 33, 34, 35, 36, 37, 38, 39, 40, 41, 42, 43, 44, 45, 46, 47, 48, 49, 50, 51, 52, 53, 54, 55, 56, 57, 58, 59, 60, 61, 62, 63, 64, 65, 66, 67, 68, 69, 70, 71, 72, 73, 74, 75, 76, 77, 78, 79, 80, 81, 82, 83, 84, 85, 86, 87, 88, 89, 90, 91, 92, 93, 94, 95, 96, 97, 98, 99]\n"
     ]
    }
   ],
   "source": [
    "#Computing multiples of 3 and 5 that are less than 100.\n",
    "print(list(range(1, 100))) # print it as a list function, to display the range numbers"
   ]
  },
  {
   "cell_type": "code",
   "execution_count": 16,
   "metadata": {},
   "outputs": [
    {
     "name": "stdout",
     "output_type": "stream",
     "text": [
      "3\n",
      "5\n",
      "6\n",
      "9\n",
      "10\n",
      "12\n",
      "15\n",
      "18\n",
      "20\n",
      "21\n",
      "24\n",
      "25\n",
      "27\n",
      "30\n",
      "33\n",
      "35\n",
      "36\n",
      "39\n",
      "40\n",
      "42\n",
      "45\n",
      "48\n",
      "50\n",
      "51\n",
      "54\n",
      "55\n",
      "57\n",
      "60\n",
      "63\n",
      "65\n",
      "66\n",
      "69\n",
      "70\n",
      "72\n",
      "75\n",
      "78\n",
      "80\n",
      "81\n",
      "84\n",
      "85\n",
      "87\n",
      "90\n",
      "93\n",
      "95\n",
      "96\n",
      "99\n"
     ]
    }
   ],
   "source": [
    "#Computing multiples of 3 and 5 that are less than 100.remember some numbers are both mulyiples of 3 and 5 like 15.\n",
    "#We are going to use a logic operator OR, for T or T = T in the if statement.\n",
    "total4 = 0 #initialising the word total2\n",
    "for i in range(1, 100):\n",
    "    if i % 3 ==0 or i % 5 == 0:\n",
    "        print(i)   #note:always try to print put to check which result you are working with.\n",
    "        #since if i % 3 or i % 5 == 0: will give us something different.\n",
    "        #total4 +=i\n",
    "#print(total4)"
   ]
  },
  {
   "cell_type": "code",
   "execution_count": 19,
   "metadata": {
    "scrolled": true
   },
   "outputs": [
    {
     "name": "stdout",
     "output_type": "stream",
     "text": [
      "2318\n"
     ]
    }
   ],
   "source": [
    "total4 = 0\n",
    "for i in range(1, 100):\n",
    "    if i % 3 ==0 or i % 5 == 0:\n",
    "        total4 += i\n",
    "print(total4)\n",
    "        "
   ]
  },
  {
   "cell_type": "code",
   "execution_count": null,
   "metadata": {},
   "outputs": [],
   "source": []
  },
  {
   "cell_type": "raw",
   "metadata": {},
   "source": [
    "#OR\n",
    "total5 = 0\n",
    "for i in range(1, 100):\n",
    "    if i%3 == 0:\n",
    "        total5 += i\n",
    "    elif i%5 == 0:\n",
    "        total5 += i\n",
    "print (\"Total:\", total5)"
   ]
  },
  {
   "cell_type": "markdown",
   "metadata": {},
   "source": [
    "# While loops"
   ]
  },
  {
   "cell_type": "code",
   "execution_count": 24,
   "metadata": {},
   "outputs": [
    {
     "name": "stdout",
     "output_type": "stream",
     "text": [
      "10\n"
     ]
    }
   ],
   "source": [
    "#It does something(executes a repeatitive action) if a certain condition is meant\n",
    "#To do the same task like our code in total2 above, e are going to use a while loop instead\n",
    "total2 = 0\n",
    "j = 1  #initialize the first value of j\n",
    "while j < 5:\n",
    "    total2 +=j\n",
    "    j +=1\n",
    "print(total2)"
   ]
  },
  {
   "cell_type": "code",
   "execution_count": 26,
   "metadata": {},
   "outputs": [
    {
     "name": "stdout",
     "output_type": "stream",
     "text": [
      "17\n"
     ]
    }
   ],
   "source": [
    "#Given the list, find the sum of only th positive numbers\n",
    "given_list = [5, 4, 4, 3, 1, -2, -3, -5]\n",
    "total3 = 0\n",
    "i = 0  #initializing this index\n",
    "while given_list[i] > 0:\n",
    "    total3 += given_list[i]\n",
    "    i +=1\n",
    "print(total3)\n",
    "    "
   ]
  },
  {
   "cell_type": "code",
   "execution_count": null,
   "metadata": {},
   "outputs": [],
   "source": [
    "#Note:while loop can be used if you are not certain of the content or length in the list or if arranged i ascending order."
   ]
  }
 ],
 "metadata": {
  "kernelspec": {
   "display_name": "Python 3",
   "language": "python",
   "name": "python3"
  },
  "language_info": {
   "codemirror_mode": {
    "name": "ipython",
    "version": 3
   },
   "file_extension": ".py",
   "mimetype": "text/x-python",
   "name": "python",
   "nbconvert_exporter": "python",
   "pygments_lexer": "ipython3",
   "version": "3.6.9"
  }
 },
 "nbformat": 4,
 "nbformat_minor": 4
}
