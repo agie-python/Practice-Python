{
 "cells": [
  {
   "cell_type": "markdown",
   "metadata": {},
   "source": [
    "# Swapping two variables"
   ]
  },
  {
   "cell_type": "code",
   "execution_count": 2,
   "metadata": {},
   "outputs": [],
   "source": [
    "v1 = \"first string\"\n",
    "v2 = \"Second string\""
   ]
  },
  {
   "cell_type": "code",
   "execution_count": 3,
   "metadata": {},
   "outputs": [],
   "source": [
    "#Solution with using two temporary variables.\n",
    "temp = v1   \n",
    "v1 = v2 #so v1 is no longer first string, it is now second string\n",
    "v2 = temp   #so v2 is refered to what temp hold, which is the first string."
   ]
  },
  {
   "cell_type": "code",
   "execution_count": 4,
   "metadata": {},
   "outputs": [
    {
     "name": "stdout",
     "output_type": "stream",
     "text": [
      "Second string\n"
     ]
    }
   ],
   "source": [
    "print(v1)"
   ]
  },
  {
   "cell_type": "code",
   "execution_count": 5,
   "metadata": {},
   "outputs": [
    {
     "name": "stdout",
     "output_type": "stream",
     "text": [
      "first string\n"
     ]
    }
   ],
   "source": [
    "print(v2)"
   ]
  },
  {
   "cell_type": "markdown",
   "metadata": {},
   "source": [
    "# If else statements"
   ]
  },
  {
   "cell_type": "code",
   "execution_count": 8,
   "metadata": {},
   "outputs": [
    {
     "name": "stdout",
     "output_type": "stream",
     "text": [
      "nice girl\n",
      "definetly\n",
      "not sure\n"
     ]
    }
   ],
   "source": [
    "a = 1\n",
    "b = 2\n",
    "if a<b:\n",
    "    print(\"nice girl\")\n",
    "    print(\"definetly\")\n",
    "print(\"not sure\")   #prints regardles or though the if statement is true.\n",
    "#To control the last print, then e bring in the else statement."
   ]
  },
  {
   "cell_type": "code",
   "execution_count": 11,
   "metadata": {},
   "outputs": [
    {
     "name": "stdout",
     "output_type": "stream",
     "text": [
      "not sure\n",
      "confused\n"
     ]
    }
   ],
   "source": [
    "a = 3\n",
    "b = 2\n",
    "if a<b:\n",
    "    print(\"sure\")   #note:by leaving the four indent lines says that this line belongs to the if statement.\n",
    "    print(\"definetly\")\n",
    "else:\n",
    "    print(\"not sure\")  #so this option is only printed when the condition is false.\n",
    "print(\"confused\")\n"
   ]
  },
  {
   "cell_type": "markdown",
   "metadata": {},
   "source": [
    "# If we want to deal with multiple cases."
   ]
  },
  {
   "cell_type": "code",
   "execution_count": 16,
   "metadata": {},
   "outputs": [
    {
     "name": "stdout",
     "output_type": "stream",
     "text": [
      "a is greater than b by more than 10\n"
     ]
    }
   ],
   "source": [
    "#we are going to use elif.\n",
    "a = 34\n",
    "b = 8\n",
    "if a<b:\n",
    "    print(\"a is less than b\") \n",
    "elif a==b:   #in python, a single equal sign is assigns something to an operator but a double, you are checkig equality.\n",
    "    print(\"a is equal to b\")\n",
    "elif a > b + 10:\n",
    "    print(\"a is greater than b by more than 10\")\n",
    "else:\n",
    "    print(\"a is greater than b\")  \n",
    "#print(\"None of the above\")"
   ]
  },
  {
   "cell_type": "code",
   "execution_count": 17,
   "metadata": {},
   "outputs": [
    {
     "name": "stdout",
     "output_type": "stream",
     "text": [
      "a is greater than b\n"
     ]
    }
   ],
   "source": [
    "#we can also deal with multiple cases using this format other than elif\n",
    "a = 4\n",
    "b = 2\n",
    "if a<b:\n",
    "    print(\"a is less than b\") \n",
    "else:\n",
    "    if a==b:\n",
    "        print(\"a is equal to b\")\n",
    "    else:\n",
    "        print(\"a is greater than b\")\n",
    "    "
   ]
  },
  {
   "cell_type": "code",
   "execution_count": 19,
   "metadata": {},
   "outputs": [
    {
     "name": "stdout",
     "output_type": "stream",
     "text": [
      "BMI: \n",
      "50.0\n",
      "Agnes\n",
      "She is Obese\n"
     ]
    }
   ],
   "source": [
    "#Making a BMI calculator to check if someone is overweight.\n",
    "#Defining the reqiured variables.\n",
    "name = \"Agnes\"\n",
    "height_m = 2\n",
    "weight_kg = 200\n",
    "BMI = weight_kg / (height_m ** 2)\n",
    "print(\"BMI: \")\n",
    "print(BMI)\n",
    "if BMI < 25:\n",
    "    print(name)\n",
    "    print(\"She is not Obese\")\n",
    "else:\n",
    "    print(name)\n",
    "    print(\"She is Obese\")"
   ]
  },
  {
   "cell_type": "markdown",
   "metadata": {},
   "source": [
    "# Functions"
   ]
  },
  {
   "cell_type": "code",
   "execution_count": 21,
   "metadata": {},
   "outputs": [
    {
     "name": "stdout",
     "output_type": "stream",
     "text": [
      "greatness\n"
     ]
    }
   ],
   "source": [
    "#Set of instructions.\n",
    "# collection of code.\n",
    "def function1():  #this function has a collection of codes which are below it\n",
    "    print(\"cool\")  #these two statements under the indent are undr the function and can only be printed if you call the function\n",
    "    print(\"great\")\n",
    "print(\"greatness\")"
   ]
  },
  {
   "cell_type": "code",
   "execution_count": 22,
   "metadata": {},
   "outputs": [
    {
     "name": "stdout",
     "output_type": "stream",
     "text": [
      "cool\n",
      "great\n"
     ]
    }
   ],
   "source": [
    "#Using the function = to calling the function.\n",
    "function1()  #so this pirnts the codes below the function statement or else it will print greatness"
   ]
  },
  {
   "cell_type": "code",
   "execution_count": 24,
   "metadata": {},
   "outputs": [
    {
     "name": "stdout",
     "output_type": "stream",
     "text": [
      "cool\n",
      "great\n",
      "cool\n",
      "great\n"
     ]
    }
   ],
   "source": [
    "#Functions can be reused over and over again i.e can be called twice.\n",
    "function1()\n",
    "function1()"
   ]
  },
  {
   "cell_type": "code",
   "execution_count": 27,
   "metadata": {},
   "outputs": [],
   "source": [
    "#A function can also be a mapping.\n",
    "#Taking an input or argument.\n",
    "def function2(x):  #define a function2 taking the input or an argument \n",
    "    return 2*x  #And in return to whenever we call this function, we shall return 2*x"
   ]
  },
  {
   "cell_type": "code",
   "execution_count": 28,
   "metadata": {},
   "outputs": [],
   "source": [
    "a = function2(3)   #this should give a return value or output of 6"
   ]
  },
  {
   "cell_type": "code",
   "execution_count": 29,
   "metadata": {},
   "outputs": [
    {
     "name": "stdout",
     "output_type": "stream",
     "text": [
      "6\n"
     ]
    }
   ],
   "source": [
    "print(a)"
   ]
  },
  {
   "cell_type": "code",
   "execution_count": 30,
   "metadata": {},
   "outputs": [],
   "source": [
    "#Having multiple argument in a single function.\n",
    "def function3(x, y):\n",
    "    return x+y"
   ]
  },
  {
   "cell_type": "code",
   "execution_count": 31,
   "metadata": {},
   "outputs": [
    {
     "name": "stdout",
     "output_type": "stream",
     "text": [
      "7\n"
     ]
    }
   ],
   "source": [
    "b = function3(1, 6)\n",
    "print(b)"
   ]
  },
  {
   "cell_type": "code",
   "execution_count": 32,
   "metadata": {},
   "outputs": [],
   "source": [
    "#Combining the two together i.e collection of code and the mapping.\n",
    "def function4(x):\n",
    "    print(x)\n",
    "    print(\"it is real\")\n",
    "    return x*4"
   ]
  },
  {
   "cell_type": "code",
   "execution_count": 33,
   "metadata": {},
   "outputs": [
    {
     "name": "stdout",
     "output_type": "stream",
     "text": [
      "4\n",
      "it is real\n",
      "16\n"
     ]
    }
   ],
   "source": [
    "r = function4(4)\n",
    "print(r)"
   ]
  },
  {
   "cell_type": "code",
   "execution_count": 34,
   "metadata": {},
   "outputs": [],
   "source": [
    "def function5(some_argument):\n",
    "    print(some_argument)\n",
    "    print(\"weee\")"
   ]
  },
  {
   "cell_type": "code",
   "execution_count": 35,
   "metadata": {},
   "outputs": [
    {
     "name": "stdout",
     "output_type": "stream",
     "text": [
      "4\n",
      "weee\n"
     ]
    }
   ],
   "source": [
    "function5(4)  #this case we dont have a return statement."
   ]
  },
  {
   "cell_type": "code",
   "execution_count": 42,
   "metadata": {},
   "outputs": [],
   "source": [
    "#Simplifying the BMI calculator with function\n",
    "def bmi_calculator(name, height_m, weight_kg):\n",
    "    bmi = weight_kg / (height_m ** 2)\n",
    "    print(\"BMI: \")\n",
    "    print(bmi)\n",
    "    if bmi < 25:\n",
    "        return name + \" not overweight\"\n",
    "    else:\n",
    "        return name + \" is overweight and reduce eating\""
   ]
  },
  {
   "cell_type": "code",
   "execution_count": 43,
   "metadata": {},
   "outputs": [
    {
     "name": "stdout",
     "output_type": "stream",
     "text": [
      "BMI: \n",
      "0.45918367346938777\n",
      "Agnes not overweight\n"
     ]
    }
   ],
   "source": [
    "name1 = \"Agnes\"\n",
    "height_m1 = 14\n",
    "weight_kg1 = 90\n",
    "result1 = bmi_calculator(name1, height_m1, weight_kg1)\n",
    "print(result1)"
   ]
  },
  {
   "cell_type": "code",
   "execution_count": 44,
   "metadata": {},
   "outputs": [],
   "source": [
    "#Function that converts miles to km.\n",
    "def convert(miles):\n",
    "    km = 1.6 * miles\n",
    "    print(\"Km: \")\n",
    "    print(km)\n",
    "    if km < 2:\n",
    "        return \"it is short\"\n",
    "    else:\n",
    "        return \"it is long\"\n",
    "    \n"
   ]
  },
  {
   "cell_type": "code",
   "execution_count": 45,
   "metadata": {},
   "outputs": [
    {
     "name": "stdout",
     "output_type": "stream",
     "text": [
      "Km: \n",
      "8.0\n",
      "it is long\n"
     ]
    }
   ],
   "source": [
    "km = convert(5)\n",
    "print(km)"
   ]
  },
  {
   "cell_type": "markdown",
   "metadata": {},
   "source": [
    "# For Loops"
   ]
  },
  {
   "cell_type": "code",
   "execution_count": 46,
   "metadata": {},
   "outputs": [],
   "source": [
    "a = [\"banana\", \"apple\", \"sweet\"]"
   ]
  },
  {
   "cell_type": "code",
   "execution_count": 47,
   "metadata": {},
   "outputs": [
    {
     "name": "stdout",
     "output_type": "stream",
     "text": [
      "banana\n",
      "apple\n",
      "sweet\n"
     ]
    }
   ],
   "source": [
    "for element in a:  #this block says, for each element in a, do the following\n",
    "    print(element)"
   ]
  },
  {
   "cell_type": "code",
   "execution_count": 54,
   "metadata": {
    "scrolled": false
   },
   "outputs": [
    {
     "name": "stdout",
     "output_type": "stream",
     "text": [
      "20\n",
      "25\n",
      "35\n",
      "The total is 35\n"
     ]
    }
   ],
   "source": [
    "b = [20,5,10]\n",
    "total  = 0\n",
    "for e in b:  #e is something you can choose by choice\n",
    "    total = total + e\n",
    "    print(total)   #if you put the print with an indent uder the for loop,which gives one by one \n",
    "print(\"The total is \" + str(total) ) #it gives the final total"
   ]
  },
  {
   "cell_type": "code",
   "execution_count": null,
   "metadata": {},
   "outputs": [],
   "source": []
  }
 ],
 "metadata": {
  "kernelspec": {
   "display_name": "Python 3",
   "language": "python",
   "name": "python3"
  },
  "language_info": {
   "codemirror_mode": {
    "name": "ipython",
    "version": 3
   },
   "file_extension": ".py",
   "mimetype": "text/x-python",
   "name": "python",
   "nbconvert_exporter": "python",
   "pygments_lexer": "ipython3",
   "version": "3.6.9"
  }
 },
 "nbformat": 4,
 "nbformat_minor": 4
}
