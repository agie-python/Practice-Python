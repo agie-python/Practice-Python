{
 "cells": [
  {
   "cell_type": "markdown",
   "metadata": {},
   "source": [
    "# Classes and objects"
   ]
  },
  {
   "cell_type": "code",
   "execution_count": null,
   "metadata": {},
   "outputs": [],
   "source": [
    "#NOTE:this might look like a usual function, but when a function is within a class, or when a function is a method\n",
    "#of a class,we add an addition argument self inside the () on the function\n",
    "#"
   ]
  },
  {
   "cell_type": "code",
   "execution_count": 2,
   "metadata": {},
   "outputs": [],
   "source": [
    "class Robot:\n",
    "    def introduce_self(self):\n",
    "        print(\"My name is \" + self.name) #the keyword self defines whatever object we are running this function on"
   ]
  },
  {
   "cell_type": "code",
   "execution_count": 6,
   "metadata": {},
   "outputs": [],
   "source": [
    "#After defining the class(as done above), we have to create the object(like attributes like name,school) out of this class\n",
    "r1 = Robot() #This simply says,create a new object with the class robot.\n",
    "r1.name = \"Agnes\" #we are setting the attributes\n",
    "r1.color = \"Red\"\n",
    "r1.weight = 30\n",
    "#Running the cell,we create a new object assigned to r1 and its attributes have been set.\n",
    "\n",
    "r2 = Robot()\n",
    "r2.name = \"Stella\"\n",
    "r2.color = \"Orange\"\n",
    "r2.weight = 40"
   ]
  },
  {
   "cell_type": "code",
   "execution_count": 7,
   "metadata": {},
   "outputs": [
    {
     "name": "stdout",
     "output_type": "stream",
     "text": [
      "My name is Agnes\n",
      "My name is Stella\n"
     ]
    }
   ],
   "source": [
    "#To run the function, introduce_self on this object, dont pass in any argument.\n",
    "#So self will refer to r1\n",
    "r1.introduce_self()\n",
    "r2.introduce_self()"
   ]
  },
  {
   "cell_type": "code",
   "execution_count": 10,
   "metadata": {},
   "outputs": [],
   "source": [
    "#OR\n",
    "class Robot:\n",
    "    def __init__(self, name, color, weight): #Using a custom constructor with the keyword __init__\n",
    "        self.name = name  #meaning set that object name to name\n",
    "        self.color = color\n",
    "        self.weight = weight\n",
    "        \n",
    "    def introduce_self(self):\n",
    "        print(\"My name is \" + self.name) "
   ]
  },
  {
   "cell_type": "code",
   "execution_count": 11,
   "metadata": {},
   "outputs": [],
   "source": [
    "r1 = Robot(\"Tom\", \"red\", 30)\n",
    "r2 = Robot(\"Jerry\", \"black\", 40)"
   ]
  },
  {
   "cell_type": "code",
   "execution_count": 12,
   "metadata": {},
   "outputs": [
    {
     "name": "stdout",
     "output_type": "stream",
     "text": [
      "My name is Jerry\n",
      "My name is Stella\n"
     ]
    }
   ],
   "source": [
    "#So calling the function as:\n",
    "r1.introduce_self()\n",
    "r2.introduce_self()"
   ]
  },
  {
   "cell_type": "markdown",
   "metadata": {},
   "source": [
    "# Boolean"
   ]
  },
  {
   "cell_type": "code",
   "execution_count": 13,
   "metadata": {},
   "outputs": [
    {
     "data": {
      "text/plain": [
       "str"
      ]
     },
     "execution_count": 13,
     "metadata": {},
     "output_type": "execute_result"
    }
   ],
   "source": [
    "type(\"microsoft\")"
   ]
  },
  {
   "cell_type": "code",
   "execution_count": null,
   "metadata": {},
   "outputs": [],
   "source": []
  }
 ],
 "metadata": {
  "kernelspec": {
   "display_name": "Python 3",
   "language": "python",
   "name": "python3"
  },
  "language_info": {
   "codemirror_mode": {
    "name": "ipython",
    "version": 3
   },
   "file_extension": ".py",
   "mimetype": "text/x-python",
   "name": "python",
   "nbconvert_exporter": "python",
   "pygments_lexer": "ipython3",
   "version": "3.6.9"
  }
 },
 "nbformat": 4,
 "nbformat_minor": 4
}
